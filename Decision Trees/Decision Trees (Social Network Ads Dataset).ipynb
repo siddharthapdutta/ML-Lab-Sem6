{
 "cells": [
  {
   "cell_type": "markdown",
   "metadata": {
    "colab_type": "text",
    "id": "AE18NLenPfW8"
   },
   "source": [
    "# Decision Tree Implementation on Social Network Ads Dataset\n"
   ]
  },
  {
   "cell_type": "markdown",
   "metadata": {
    "colab_type": "text",
    "id": "Mub6Hw0jRj2L"
   },
   "source": [
    "## Aim: Write a program in Python for Decision Tree using ID3 Algorithm"
   ]
  },
  {
   "cell_type": "code",
   "execution_count": 0,
   "metadata": {
    "colab": {},
    "colab_type": "code",
    "id": "gANCmPFFZEvA"
   },
   "outputs": [],
   "source": [
    "# Importing Libraries\n",
    "import pandas as pd\n",
    "from sklearn.model_selection import train_test_split\n",
    "from sklearn.tree import DecisionTreeClassifier, export_graphviz\n",
    "from sklearn.metrics import accuracy_score\n",
    "from sklearn.metrics import confusion_matrix\n",
    "import graphviz"
   ]
  },
  {
   "cell_type": "code",
   "execution_count": 0,
   "metadata": {
    "colab": {},
    "colab_type": "code",
    "id": "Xbsb1xG-QTiJ"
   },
   "outputs": [],
   "source": [
    "# Preparing Dataset\n",
    "df = pd.read_csv('Social-Network-Ads.csv')\n",
    "df = df.drop(['User ID', 'Gender'], axis=1)\n",
    "\n",
    "X = df.iloc[:,:-1]\n",
    "y = df.iloc[:,-1]\n",
    "\n",
    "X_train, X_test, y_train, y_test = train_test_split(X, y, test_size=0.2, random_state=42)"
   ]
  },
  {
   "cell_type": "code",
   "execution_count": 3,
   "metadata": {
    "colab": {
     "base_uri": "https://localhost:8080/",
     "height": 34
    },
    "colab_type": "code",
    "id": "sBq8L7Q-Qsmi",
    "outputId": "6779fdf8-1256-41cc-ed5f-16394f0b6b49"
   },
   "outputs": [
    {
     "name": "stdout",
     "output_type": "stream",
     "text": [
      "Accuracy: 0.8375\n"
     ]
    }
   ],
   "source": [
    "# Decision Tree: Criterion = Entropy, Splitter = Best\n",
    "classifier = DecisionTreeClassifier(criterion='entropy', splitter='best')\n",
    "classifier.fit(X_train, y_train)\n",
    "y_pred = classifier.predict(X_test)\n",
    "\n",
    "acc = accuracy_score(y_pred, y_test)\n",
    "cm = confusion_matrix(y_pred, y_test)\n",
    "print(\"Accuracy:\", acc)"
   ]
  },
  {
   "cell_type": "code",
   "execution_count": 4,
   "metadata": {
    "colab": {
     "base_uri": "https://localhost:8080/",
     "height": 34
    },
    "colab_type": "code",
    "id": "zr7DauY6QXQJ",
    "outputId": "09487021-d63a-4b70-cd30-9bcff4ccf1ed"
   },
   "outputs": [
    {
     "name": "stdout",
     "output_type": "stream",
     "text": [
      "Accuracy: 0.85\n"
     ]
    }
   ],
   "source": [
    "# Decision Tree: Criterion = Entropy, Splitter = Random\n",
    "classifier = DecisionTreeClassifier(criterion='entropy', splitter='random')\n",
    "classifier.fit(X_train, y_train)\n",
    "y_pred = classifier.predict(X_test)\n",
    "\n",
    "acc = accuracy_score(y_pred, y_test)\n",
    "cm = confusion_matrix(y_pred, y_test)\n",
    "print(\"Accuracy:\", acc)"
   ]
  },
  {
   "cell_type": "code",
   "execution_count": 5,
   "metadata": {
    "colab": {
     "base_uri": "https://localhost:8080/",
     "height": 34
    },
    "colab_type": "code",
    "id": "jOUMIOSMZQyu",
    "outputId": "6efedc7f-b3c6-40c6-e106-f5166ad89125"
   },
   "outputs": [
    {
     "data": {
      "text/plain": [
       "'Decision Tree using ID3.pdf'"
      ]
     },
     "execution_count": 5,
     "metadata": {
      "tags": []
     },
     "output_type": "execute_result"
    }
   ],
   "source": [
    "# Plotting Decision Tree Classifier\n",
    "dot_data = export_graphviz(classifier, out_file=None)\n",
    "graph = graphviz.Source(dot_data)\n",
    "graph.render('Decision Tree using ID3')"
   ]
  },
  {
   "cell_type": "markdown",
   "metadata": {
    "colab_type": "text",
    "id": "D9CBjfxBRnFp"
   },
   "source": [
    "## Aim: Write a program in Python for Decision Tree using CART Algorithm"
   ]
  },
  {
   "cell_type": "code",
   "execution_count": 0,
   "metadata": {
    "colab": {},
    "colab_type": "code",
    "id": "WK5QhyISRxsS"
   },
   "outputs": [],
   "source": [
    "# Importing Libraries\n",
    "import pandas as pd\n",
    "from sklearn.model_selection import train_test_split\n",
    "from sklearn.tree import DecisionTreeClassifier, export_graphviz\n",
    "from sklearn.metrics import accuracy_score\n",
    "from sklearn.metrics import confusion_matrix\n",
    "import graphviz"
   ]
  },
  {
   "cell_type": "code",
   "execution_count": 0,
   "metadata": {
    "colab": {},
    "colab_type": "code",
    "id": "OJu5XIACRyQj"
   },
   "outputs": [],
   "source": [
    "# Preparing Dataset\n",
    "df = pd.read_csv('Social-Network-Ads.csv')\n",
    "df = df.drop(['User ID', 'Gender'], axis=1)\n",
    "\n",
    "X = df.iloc[:,:-1]\n",
    "y = df.iloc[:,-1]\n",
    "\n",
    "X_train, X_test, y_train, y_test = train_test_split(X, y, test_size=0.2, random_state=42)"
   ]
  },
  {
   "cell_type": "code",
   "execution_count": 8,
   "metadata": {
    "colab": {
     "base_uri": "https://localhost:8080/",
     "height": 34
    },
    "colab_type": "code",
    "id": "lM5r8VJCR0DC",
    "outputId": "15de2285-a21c-42e1-f6a1-421f8571b90d"
   },
   "outputs": [
    {
     "name": "stdout",
     "output_type": "stream",
     "text": [
      "Accuracy: 0.8375\n"
     ]
    }
   ],
   "source": [
    "# Decision Tree: Criterion = GINI, Splitter = Best\n",
    "classifier = DecisionTreeClassifier(criterion='gini', splitter='best')\n",
    "classifier.fit(X_train, y_train)\n",
    "y_pred = classifier.predict(X_test)\n",
    "\n",
    "acc = accuracy_score(y_pred, y_test)\n",
    "cm = confusion_matrix(y_pred, y_test)\n",
    "print(\"Accuracy:\", acc)"
   ]
  },
  {
   "cell_type": "code",
   "execution_count": 9,
   "metadata": {
    "colab": {
     "base_uri": "https://localhost:8080/",
     "height": 34
    },
    "colab_type": "code",
    "id": "dk_S42mKR0fR",
    "outputId": "63d156ca-802f-41f9-e941-a8adffa54901"
   },
   "outputs": [
    {
     "name": "stdout",
     "output_type": "stream",
     "text": [
      "Accuracy: 0.825\n"
     ]
    }
   ],
   "source": [
    "# Decision Tree: Criterion = GINI, Splitter = Random\n",
    "classifier = DecisionTreeClassifier(criterion='gini', splitter='random')\n",
    "classifier.fit(X_train, y_train)\n",
    "y_pred = classifier.predict(X_test)\n",
    "\n",
    "acc = accuracy_score(y_pred, y_test)\n",
    "cm = confusion_matrix(y_pred, y_test)\n",
    "print(\"Accuracy:\", acc)"
   ]
  },
  {
   "cell_type": "code",
   "execution_count": 10,
   "metadata": {
    "colab": {
     "base_uri": "https://localhost:8080/",
     "height": 34
    },
    "colab_type": "code",
    "id": "a7dBm_fvR8Wy",
    "outputId": "d0845d05-dcbd-4796-9793-2faaeb858230"
   },
   "outputs": [
    {
     "data": {
      "text/plain": [
       "'Decision Tree using CART.pdf'"
      ]
     },
     "execution_count": 10,
     "metadata": {
      "tags": []
     },
     "output_type": "execute_result"
    }
   ],
   "source": [
    "# Plotting Decision Tree Classifier\n",
    "dot_data = export_graphviz(classifier, out_file=None)\n",
    "graph = graphviz.Source(dot_data)\n",
    "graph.render('Decision Tree using CART')"
   ]
  }
 ],
 "metadata": {
  "colab": {
   "collapsed_sections": [],
   "name": "Decision Tree.ipynb",
   "provenance": [],
   "toc_visible": true
  },
  "kernelspec": {
   "display_name": "Python 3",
   "language": "python",
   "name": "python3"
  }
 },
 "nbformat": 4,
 "nbformat_minor": 1
}
