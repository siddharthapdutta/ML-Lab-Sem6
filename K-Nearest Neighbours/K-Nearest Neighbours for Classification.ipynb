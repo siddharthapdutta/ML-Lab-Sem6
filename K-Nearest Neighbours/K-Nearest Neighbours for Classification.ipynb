{
 "cells": [
  {
   "cell_type": "markdown",
   "metadata": {},
   "source": [
    "# K-Nearest Neighbours for Classification"
   ]
  },
  {
   "cell_type": "code",
   "execution_count": 1,
   "metadata": {},
   "outputs": [],
   "source": [
    "# Importing Libraries\n",
    "from sklearn.datasets import load_iris\n",
    "from sklearn.preprocessing import StandardScaler\n",
    "from sklearn.model_selection import train_test_split\n",
    "from sklearn.neighbors import KNeighborsClassifier\n",
    "from itertools import product\n",
    "from sklearn.metrics import classification_report, accuracy_score\n",
    "import tabulate"
   ]
  },
  {
   "cell_type": "code",
   "execution_count": 2,
   "metadata": {},
   "outputs": [
    {
     "name": "stdout",
     "output_type": "stream",
     "text": [
      "Independent Variables\n",
      "['sepal length (cm)', 'sepal width (cm)', 'petal length (cm)', 'petal width (cm)']\n",
      "(150, 4)\n",
      "Dependent Variables\n",
      "['setosa' 'versicolor' 'virginica']\n",
      "(150,)\n"
     ]
    }
   ],
   "source": [
    "# Preparing 'Iris' Dataset\n",
    "iris = load_iris()\n",
    "print(\"Independent Variables\")\n",
    "print(iris.feature_names)\n",
    "print(iris.data.shape)\n",
    "\n",
    "print(\"Dependent Variables\")\n",
    "print(iris.target_names)\n",
    "print(iris.target.shape)"
   ]
  },
  {
   "cell_type": "code",
   "execution_count": 3,
   "metadata": {},
   "outputs": [
    {
     "name": "stdout",
     "output_type": "stream",
     "text": [
      "(100, 4)\n"
     ]
    }
   ],
   "source": [
    "# Performing Data Pre-Processing\n",
    "sc = StandardScaler()\n",
    "X = sc.fit_transform(iris.data)\n",
    "Y = iris.target\n",
    "\n",
    "X_train, X_test, Y_train, Y_test = train_test_split(X, Y, test_size = 0.33)\n",
    "print(X_train.shape)"
   ]
  },
  {
   "cell_type": "code",
   "execution_count": 4,
   "metadata": {},
   "outputs": [],
   "source": [
    "# Preparing Parameters\n",
    "K_values = [5, 7, 9] # 5 <= k <= sqrt(X_train.shape[0])\n",
    "P_values = [1,2] # Distance Metrics\n",
    "table = []"
   ]
  },
  {
   "cell_type": "code",
   "execution_count": 5,
   "metadata": {},
   "outputs": [
    {
     "name": "stdout",
     "output_type": "stream",
     "text": [
      "\n",
      "Classification Report for k = 5, p = 1\n",
      "              precision    recall  f1-score   support\n",
      "\n",
      "      setosa       1.00      1.00      1.00        10\n",
      "  versicolor       0.88      0.93      0.90        15\n",
      "   virginica       0.96      0.92      0.94        25\n",
      "\n",
      "    accuracy                           0.94        50\n",
      "   macro avg       0.94      0.95      0.95        50\n",
      "weighted avg       0.94      0.94      0.94        50\n",
      "\n",
      "\n",
      "Classification Report for k = 5, p = 2\n",
      "              precision    recall  f1-score   support\n",
      "\n",
      "      setosa       1.00      1.00      1.00        10\n",
      "  versicolor       0.88      0.93      0.90        15\n",
      "   virginica       0.96      0.92      0.94        25\n",
      "\n",
      "    accuracy                           0.94        50\n",
      "   macro avg       0.94      0.95      0.95        50\n",
      "weighted avg       0.94      0.94      0.94        50\n",
      "\n",
      "\n",
      "Classification Report for k = 7, p = 1\n",
      "              precision    recall  f1-score   support\n",
      "\n",
      "      setosa       1.00      1.00      1.00        10\n",
      "  versicolor       0.87      0.87      0.87        15\n",
      "   virginica       0.92      0.92      0.92        25\n",
      "\n",
      "    accuracy                           0.92        50\n",
      "   macro avg       0.93      0.93      0.93        50\n",
      "weighted avg       0.92      0.92      0.92        50\n",
      "\n",
      "\n",
      "Classification Report for k = 7, p = 2\n",
      "              precision    recall  f1-score   support\n",
      "\n",
      "      setosa       1.00      1.00      1.00        10\n",
      "  versicolor       0.76      0.87      0.81        15\n",
      "   virginica       0.91      0.84      0.87        25\n",
      "\n",
      "    accuracy                           0.88        50\n",
      "   macro avg       0.89      0.90      0.90        50\n",
      "weighted avg       0.89      0.88      0.88        50\n",
      "\n",
      "\n",
      "Classification Report for k = 9, p = 1\n",
      "              precision    recall  f1-score   support\n",
      "\n",
      "      setosa       1.00      1.00      1.00        10\n",
      "  versicolor       0.82      0.93      0.87        15\n",
      "   virginica       0.96      0.88      0.92        25\n",
      "\n",
      "    accuracy                           0.92        50\n",
      "   macro avg       0.93      0.94      0.93        50\n",
      "weighted avg       0.93      0.92      0.92        50\n",
      "\n",
      "\n",
      "Classification Report for k = 9, p = 2\n",
      "              precision    recall  f1-score   support\n",
      "\n",
      "      setosa       1.00      1.00      1.00        10\n",
      "  versicolor       0.78      0.93      0.85        15\n",
      "   virginica       0.95      0.84      0.89        25\n",
      "\n",
      "    accuracy                           0.90        50\n",
      "   macro avg       0.91      0.92      0.91        50\n",
      "weighted avg       0.91      0.90      0.90        50\n",
      "\n"
     ]
    }
   ],
   "source": [
    "# K-Nearest Neighbours Algorithm\n",
    "for k, dm in list(product(K_values, P_values)):\n",
    "    classifier = KNeighborsClassifier(n_neighbors = k, p = dm)\n",
    "    classifier.fit(X_train, Y_train)\n",
    "    Y_pred = classifier.predict(X_test)\n",
    "    print(\"\\nClassification Report for k = {}, p = {}\".format(k, dm))\n",
    "    print(classification_report(Y_test, Y_pred, target_names=iris.target_names))\n",
    "    accuracy = round(accuracy_score(Y_test, Y_pred),2)\n",
    "    table.append((k, dm, accuracy))"
   ]
  },
  {
   "cell_type": "code",
   "execution_count": 6,
   "metadata": {},
   "outputs": [
    {
     "data": {
      "text/html": [
       "<table>\n",
       "<thead>\n",
       "<tr><th style=\"text-align: center;\">  </th><th style=\"text-align: center;\"> Neighbours </th><th style=\"text-align: center;\"> Value of p </th><th style=\"text-align: center;\"> Accuracy </th></tr>\n",
       "</thead>\n",
       "<tbody>\n",
       "<tr><td style=\"text-align: center;\">0 </td><td style=\"text-align: center;\">     5      </td><td style=\"text-align: center;\">     1      </td><td style=\"text-align: center;\">   0.94   </td></tr>\n",
       "<tr><td style=\"text-align: center;\">1 </td><td style=\"text-align: center;\">     5      </td><td style=\"text-align: center;\">     2      </td><td style=\"text-align: center;\">   0.94   </td></tr>\n",
       "<tr><td style=\"text-align: center;\">2 </td><td style=\"text-align: center;\">     7      </td><td style=\"text-align: center;\">     1      </td><td style=\"text-align: center;\">   0.92   </td></tr>\n",
       "<tr><td style=\"text-align: center;\">3 </td><td style=\"text-align: center;\">     7      </td><td style=\"text-align: center;\">     2      </td><td style=\"text-align: center;\">   0.88   </td></tr>\n",
       "<tr><td style=\"text-align: center;\">4 </td><td style=\"text-align: center;\">     9      </td><td style=\"text-align: center;\">     1      </td><td style=\"text-align: center;\">   0.92   </td></tr>\n",
       "<tr><td style=\"text-align: center;\">5 </td><td style=\"text-align: center;\">     9      </td><td style=\"text-align: center;\">     2      </td><td style=\"text-align: center;\">   0.9    </td></tr>\n",
       "</tbody>\n",
       "</table>"
      ],
      "text/plain": [
       "'<table>\\n<thead>\\n<tr><th style=\"text-align: center;\">  </th><th style=\"text-align: center;\"> Neighbours </th><th style=\"text-align: center;\"> Value of p </th><th style=\"text-align: center;\"> Accuracy </th></tr>\\n</thead>\\n<tbody>\\n<tr><td style=\"text-align: center;\">0 </td><td style=\"text-align: center;\">     5      </td><td style=\"text-align: center;\">     1      </td><td style=\"text-align: center;\">   0.94   </td></tr>\\n<tr><td style=\"text-align: center;\">1 </td><td style=\"text-align: center;\">     5      </td><td style=\"text-align: center;\">     2      </td><td style=\"text-align: center;\">   0.94   </td></tr>\\n<tr><td style=\"text-align: center;\">2 </td><td style=\"text-align: center;\">     7      </td><td style=\"text-align: center;\">     1      </td><td style=\"text-align: center;\">   0.92   </td></tr>\\n<tr><td style=\"text-align: center;\">3 </td><td style=\"text-align: center;\">     7      </td><td style=\"text-align: center;\">     2      </td><td style=\"text-align: center;\">   0.88   </td></tr>\\n<tr><td style=\"text-align: center;\">4 </td><td style=\"text-align: center;\">     9      </td><td style=\"text-align: center;\">     1      </td><td style=\"text-align: center;\">   0.92   </td></tr>\\n<tr><td style=\"text-align: center;\">5 </td><td style=\"text-align: center;\">     9      </td><td style=\"text-align: center;\">     2      </td><td style=\"text-align: center;\">   0.9    </td></tr>\\n</tbody>\\n</table>'"
      ]
     },
     "execution_count": 6,
     "metadata": {},
     "output_type": "execute_result"
    }
   ],
   "source": [
    "# Tabulation of Results\n",
    "headers = ['Neighbours', 'Value of p', 'Accuracy']\n",
    "tabulate.tabulate(table, headers, tablefmt='html', numalign='center', showindex='always')"
   ]
  }
 ],
 "metadata": {
  "kernelspec": {
   "display_name": "Python 3",
   "language": "python",
   "name": "python3"
  },
  "language_info": {
   "codemirror_mode": {
    "name": "ipython",
    "version": 3
   },
   "file_extension": ".py",
   "mimetype": "text/x-python",
   "name": "python",
   "nbconvert_exporter": "python",
   "pygments_lexer": "ipython3",
   "version": "3.7.4"
  }
 },
 "nbformat": 4,
 "nbformat_minor": 2
}
