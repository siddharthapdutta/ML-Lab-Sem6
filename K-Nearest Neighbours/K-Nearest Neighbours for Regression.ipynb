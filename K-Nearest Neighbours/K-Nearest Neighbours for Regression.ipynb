{
 "cells": [
  {
   "cell_type": "markdown",
   "metadata": {},
   "source": [
    "# K-Nearest Neighbours for Regression\n"
   ]
  },
  {
   "cell_type": "code",
   "execution_count": 1,
   "metadata": {},
   "outputs": [],
   "source": [
    "# Importing Libraries\n",
    "import pandas as pd\n",
    "from sklearn.preprocessing import Imputer, LabelEncoder, OneHotEncoder, StandardScaler\n",
    "from sklearn.model_selection import train_test_split\n",
    "from sklearn.neighbors import KNeighborsRegressor\n",
    "from itertools import product\n",
    "from sklearn.metrics import mean_squared_error, r2_score\n",
    "from math import sqrt\n",
    "import tabulate\n",
    "import matplotlib.pyplot as plt\n",
    "from matplotlib import rcParams\n",
    "import numpy as np\n",
    "%matplotlib inline\n",
    "\n",
    "import warnings\n",
    "warnings.simplefilter(action='ignore')"
   ]
  },
  {
   "cell_type": "code",
   "execution_count": 2,
   "metadata": {},
   "outputs": [
    {
     "name": "stdout",
     "output_type": "stream",
     "text": [
      "X-Shape (205, 25)\n",
      "Y-Shape (205,)\n"
     ]
    }
   ],
   "source": [
    "# Preparing 'Automobole' Dataset\n",
    "dataset = pd.read_csv('KNN_Automobile_Data.csv')\n",
    "dataset = dataset.replace(\"?\", pd.np.nan)\n",
    "X = dataset.iloc[:,:-1] # 25 Independent Variables\n",
    "print(\"X-Shape\", X.shape)\n",
    "Y = dataset.iloc[:,-1] # 1 Dependent Variable i.e. Price\n",
    "print(\"Y-Shape\", Y.shape)\n",
    "#print(X.isnull().sum()) # Summary of Missing Values"
   ]
  },
  {
   "cell_type": "code",
   "execution_count": 3,
   "metadata": {},
   "outputs": [
    {
     "name": "stdout",
     "output_type": "stream",
     "text": [
      "(164, 75)\n"
     ]
    }
   ],
   "source": [
    "# Data Pre-Processing\n",
    "imputer = Imputer(missing_values = 'NaN', strategy = 'mean', axis = 0) # Imputer: Mean\n",
    "X['normalized-losses'] = imputer.fit_transform(X[['normalized-losses']]).ravel()\n",
    "X['num-of-doors'] = X['num-of-doors'].replace(pd.np.nan, 'four')\n",
    "X['bore'] = imputer.fit_transform(X[['bore']]).ravel()\n",
    "X['stroke'] = imputer.fit_transform(X[['stroke']]).ravel()\n",
    "X['horsepower'] = imputer.fit_transform(X[['horsepower']]).ravel()\n",
    "X['peak-rpm'] = imputer.fit_transform(X[['peak-rpm']]).ravel()\n",
    "\n",
    "cat_columns = [2, 3, 4, 5, 6, 7, 8, 14, 15, 17] # Column Numbers of Categorical Variables\n",
    "le = LabelEncoder()\n",
    "for col in cat_columns:\n",
    "    X[X.columns[col]] = le.fit_transform(X[X.columns[col]])\n",
    "    \n",
    "ohe = OneHotEncoder(categorical_features = cat_columns)\n",
    "X = ohe.fit_transform(X).toarray() \n",
    "\n",
    "sc = StandardScaler()\n",
    "X = sc.fit_transform(X)\n",
    "\n",
    "X_train, X_test, Y_train, Y_test = train_test_split(X, Y, test_size = 0.20)\n",
    "print(X_train.shape)"
   ]
  },
  {
   "cell_type": "code",
   "execution_count": 4,
   "metadata": {},
   "outputs": [],
   "source": [
    "# Preparing Parameters\n",
    "K_values = [5, 9, 11] # 5 <= k <= sqrt(X_train.shape[0])\n",
    "P_values = [1,2] # Distance Metrics\n",
    "table = []"
   ]
  },
  {
   "cell_type": "code",
   "execution_count": 5,
   "metadata": {},
   "outputs": [],
   "source": [
    "# K-Nearest Neighbours Algorithm\n",
    "for k, dm in list(product(K_values, P_values)):\n",
    "    regressor = KNeighborsRegressor(n_neighbors = k, p = dm)\n",
    "    regressor.fit(X_train, Y_train)\n",
    "    Y_pred = regressor.predict(X_test)\n",
    "    mse = mean_squared_error(Y_test, Y_pred)\n",
    "    rmse = round(sqrt(mse), 2)\n",
    "    score = round(r2_score(Y_test,Y_pred), 2)\n",
    "    table.append((k, dm, rmse, score))"
   ]
  },
  {
   "cell_type": "code",
   "execution_count": 6,
   "metadata": {},
   "outputs": [
    {
     "data": {
      "text/html": [
       "<table>\n",
       "<thead>\n",
       "<tr><th style=\"text-align: center;\">  </th><th style=\"text-align: center;\"> Neighbours </th><th style=\"text-align: center;\"> Value of p </th><th style=\"text-align: center;\"> RMSE  </th><th style=\"text-align: center;\"> R2 Score </th></tr>\n",
       "</thead>\n",
       "<tbody>\n",
       "<tr><td style=\"text-align: center;\">0 </td><td style=\"text-align: center;\">     5      </td><td style=\"text-align: center;\">     1      </td><td style=\"text-align: center;\">3945.17</td><td style=\"text-align: center;\">   0.81   </td></tr>\n",
       "<tr><td style=\"text-align: center;\">1 </td><td style=\"text-align: center;\">     5      </td><td style=\"text-align: center;\">     2      </td><td style=\"text-align: center;\">4729.22</td><td style=\"text-align: center;\">   0.73   </td></tr>\n",
       "<tr><td style=\"text-align: center;\">2 </td><td style=\"text-align: center;\">     9      </td><td style=\"text-align: center;\">     1      </td><td style=\"text-align: center;\">5162.93</td><td style=\"text-align: center;\">   0.67   </td></tr>\n",
       "<tr><td style=\"text-align: center;\">3 </td><td style=\"text-align: center;\">     9      </td><td style=\"text-align: center;\">     2      </td><td style=\"text-align: center;\">5563.15</td><td style=\"text-align: center;\">   0.62   </td></tr>\n",
       "<tr><td style=\"text-align: center;\">4 </td><td style=\"text-align: center;\">     11     </td><td style=\"text-align: center;\">     1      </td><td style=\"text-align: center;\">5337.23</td><td style=\"text-align: center;\">   0.65   </td></tr>\n",
       "<tr><td style=\"text-align: center;\">5 </td><td style=\"text-align: center;\">     11     </td><td style=\"text-align: center;\">     2      </td><td style=\"text-align: center;\">5970.58</td><td style=\"text-align: center;\">   0.56   </td></tr>\n",
       "</tbody>\n",
       "</table>"
      ],
      "text/plain": [
       "'<table>\\n<thead>\\n<tr><th style=\"text-align: center;\">  </th><th style=\"text-align: center;\"> Neighbours </th><th style=\"text-align: center;\"> Value of p </th><th style=\"text-align: center;\"> RMSE  </th><th style=\"text-align: center;\"> R2 Score </th></tr>\\n</thead>\\n<tbody>\\n<tr><td style=\"text-align: center;\">0 </td><td style=\"text-align: center;\">     5      </td><td style=\"text-align: center;\">     1      </td><td style=\"text-align: center;\">3945.17</td><td style=\"text-align: center;\">   0.81   </td></tr>\\n<tr><td style=\"text-align: center;\">1 </td><td style=\"text-align: center;\">     5      </td><td style=\"text-align: center;\">     2      </td><td style=\"text-align: center;\">4729.22</td><td style=\"text-align: center;\">   0.73   </td></tr>\\n<tr><td style=\"text-align: center;\">2 </td><td style=\"text-align: center;\">     9      </td><td style=\"text-align: center;\">     1      </td><td style=\"text-align: center;\">5162.93</td><td style=\"text-align: center;\">   0.67   </td></tr>\\n<tr><td style=\"text-align: center;\">3 </td><td style=\"text-align: center;\">     9      </td><td style=\"text-align: center;\">     2      </td><td style=\"text-align: center;\">5563.15</td><td style=\"text-align: center;\">   0.62   </td></tr>\\n<tr><td style=\"text-align: center;\">4 </td><td style=\"text-align: center;\">     11     </td><td style=\"text-align: center;\">     1      </td><td style=\"text-align: center;\">5337.23</td><td style=\"text-align: center;\">   0.65   </td></tr>\\n<tr><td style=\"text-align: center;\">5 </td><td style=\"text-align: center;\">     11     </td><td style=\"text-align: center;\">     2      </td><td style=\"text-align: center;\">5970.58</td><td style=\"text-align: center;\">   0.56   </td></tr>\\n</tbody>\\n</table>'"
      ]
     },
     "execution_count": 6,
     "metadata": {},
     "output_type": "execute_result"
    }
   ],
   "source": [
    "# Tabulation of Results\n",
    "headers = ['Neighbours', 'Value of p', 'RMSE', 'R2 Score']\n",
    "tabulate.tabulate(table, headers, tablefmt='html', numalign='center', showindex='always')"
   ]
  },
  {
   "cell_type": "code",
   "execution_count": 7,
   "metadata": {},
   "outputs": [
    {
     "data": {
      "text/plain": [
       "<matplotlib.colorbar.Colorbar at 0x25c458a7048>"
      ]
     },
     "execution_count": 7,
     "metadata": {},
     "output_type": "execute_result"
    },
    {
     "data": {
      "image/png": "[encoded data removed]",
      "text/plain": [
       "<Figure size 1152x1152 with 2 Axes>"
      ]
     },
     "metadata": {
      "needs_background": "light"
     },
     "output_type": "display_data"
    }
   ],
   "source": [
    "# Pearson Correlation\n",
    "pearsoncorr = dataset.corr(method='pearson')\n",
    "rcParams['figure.figsize'] = 12, 16\n",
    "plt.matshow(pearsoncorr)\n",
    "plt.yticks(np.arange(len(pearsoncorr.columns)), pearsoncorr.columns)\n",
    "plt.xticks(np.arange(len(pearsoncorr.columns)), pearsoncorr.columns)\n",
    "plt.colorbar()"
   ]
  }
 ],
 "metadata": {
  "kernelspec": {
   "display_name": "Python 3",
   "language": "python",
   "name": "python3"
  },
  "language_info": {
   "codemirror_mode": {
    "name": "ipython",
    "version": 3
   },
   "file_extension": ".py",
   "mimetype": "text/x-python",
   "name": "python",
   "nbconvert_exporter": "python",
   "pygments_lexer": "ipython3",
   "version": "3.7.4"
  }
 },
 "nbformat": 4,
 "nbformat_minor": 2
}
