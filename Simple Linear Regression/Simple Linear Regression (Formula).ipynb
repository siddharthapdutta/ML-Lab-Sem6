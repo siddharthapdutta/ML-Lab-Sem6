{
 "cells": [
  {
   "cell_type": "code",
   "execution_count": 1,
   "metadata": {},
   "outputs": [],
   "source": [
    "# Importing Libraries\n",
    "import numpy as np\n",
    "from sklearn.model_selection import train_test_split\n",
    "import matplotlib.pyplot as plt"
   ]
  },
  {
   "cell_type": "code",
   "execution_count": 2,
   "metadata": {},
   "outputs": [],
   "source": [
    "# Input Dataset\n",
    "x = np.array([17, 13, 12, 15, 16, 14, 16, 16, 18, 19])\n",
    "y = np.array([94, 73, 59, 80, 93, 85, 66, 79, 77, 91])"
   ]
  },
  {
   "cell_type": "code",
   "execution_count": 3,
   "metadata": {},
   "outputs": [
    {
     "name": "stdout",
     "output_type": "stream",
     "text": [
      "X_train: [14 17 16 12 19 16 15 16]\n",
      "X_test: [18 13]\n",
      "\n",
      "Y_train: [85 94 79 59 91 93 80 66]\n",
      "Y_test: [77 73]\n"
     ]
    }
   ],
   "source": [
    "# Performing Train-Test Split\n",
    "# 80:20 Split, Random State = 42\n",
    "X_train, X_test, y_train, y_test = train_test_split(x, y, test_size=0.20, random_state=42)\n",
    "print(\"X_train:\", X_train)\n",
    "print(\"X_test:\", X_test)\n",
    "print(\"\\nY_train:\", y_train)\n",
    "print(\"Y_test:\", y_test)"
   ]
  },
  {
   "cell_type": "code",
   "execution_count": 4,
   "metadata": {},
   "outputs": [],
   "source": [
    "# Basic Data Needed for Calculations\n",
    "N = len(X_train)\n",
    "X_mean = np.mean(X_train)\n",
    "y_mean = np.mean(y_train)"
   ]
  },
  {
   "cell_type": "code",
   "execution_count": 5,
   "metadata": {},
   "outputs": [
    {
     "name": "stdout",
     "output_type": "stream",
     "text": [
      "Regression Line => y = 4.138075313807532*x + 16.21757322175732\n"
     ]
    }
   ],
   "source": [
    "# Calculating Regression Line using Least Squares Method\n",
    "num = 0\n",
    "den = 0\n",
    "for i in range(N):\n",
    "    num += (X_train[i]-X_mean) * (y_train[i]-y_mean)\n",
    "    den += (X_train[i]-X_mean)**2\n",
    "    \n",
    "b1 = num / den\n",
    "b0 = y_mean - (b1 * X_mean)\n",
    "\n",
    "regression_line = \"{}*x + {}\".format(b1, b0)\n",
    "print(\"Regression Line => y = \" + regression_line)"
   ]
  },
  {
   "cell_type": "code",
   "execution_count": 6,
   "metadata": {},
   "outputs": [
    {
     "name": "stdout",
     "output_type": "stream",
     "text": [
      "[74.15062762 86.56485356 82.42677824 65.87447699 94.84100418 82.42677824\n",
      " 78.28870293 82.42677824]\n"
     ]
    }
   ],
   "source": [
    "# Predict Values using Regression Line\n",
    "y_pred = []\n",
    "for val in X_train:\n",
    "    y_pred.append((b1 * val) + b0)\n",
    "y_pred = np.array(y_pred)\n",
    "print(y_pred)"
   ]
  },
  {
   "cell_type": "code",
   "execution_count": 7,
   "metadata": {},
   "outputs": [
    {
     "name": "stdout",
     "output_type": "stream",
     "text": [
      "Karl Pearson's Correlation Coefficient = 0.6\n"
     ]
    }
   ],
   "source": [
    "# Karl Pearson's Correlation Coefficient Formula\n",
    "num = (len(x) * np.sum(x * y)) - (np.sum(x) * np.sum(y))\n",
    "den = np.sqrt(((len(x) * np.sum(x**2)) - np.sum(x)**2)*((len(x) * np.sum(y**2)) - np.sum(y)**2))\n",
    "\n",
    "r = num/den\n",
    "print(\"Karl Pearson's Correlation Coefficient = \" + str(round(r, 2)))"
   ]
  },
  {
   "cell_type": "code",
   "execution_count": 8,
   "metadata": {},
   "outputs": [
    {
     "name": "stdout",
     "output_type": "stream",
     "text": [
      "R-Square Value: 0.45\n"
     ]
    }
   ],
   "source": [
    "# R-Square\n",
    "r_square = np.sum((y_pred - y_mean)**2) / np.sum((y_train - y_mean)**2)\n",
    "print(\"R-Square Value: \" + str(round(r_square,2)))"
   ]
  },
  {
   "cell_type": "code",
   "execution_count": 9,
   "metadata": {},
   "outputs": [
    {
     "name": "stdout",
     "output_type": "stream",
     "text": [
      "Standard Error of Estimate = 10.26\n"
     ]
    }
   ],
   "source": [
    "# Standard Error of the Estimate\n",
    "std_error = np.sqrt(np.sum((y_pred - y_train)**2)/(N-2))\n",
    "print(\"Standard Error of Estimate = \" + str(round(std_error,2)))"
   ]
  },
  {
   "cell_type": "code",
   "execution_count": 10,
   "metadata": {},
   "outputs": [
    {
     "data": {
      "image/png": "[encoded data removed]",
      "text/plain": [
       "<matplotlib.figure.Figure at 0x16a99c0a1d0>"
      ]
     },
     "metadata": {
      "needs_background": "light"
     },
     "output_type": "display_data"
    }
   ],
   "source": [
    "# Plotting Regression Line\n",
    "plt.scatter(X_train, y_train)\n",
    "plt.plot(X_train, y_pred, color='red')\n",
    "plt.show()"
   ]
  },
  {
   "cell_type": "code",
   "execution_count": 11,
   "metadata": {},
   "outputs": [
    {
     "name": "stdout",
     "output_type": "stream",
     "text": [
      "Actual: [77 73]\n",
      "Predicted: [90.7029288702929, 70.01255230125523]\n"
     ]
    }
   ],
   "source": [
    "# Perfoming Predictions on Test Set\n",
    "y_pred_test = []\n",
    "for x in X_test:\n",
    "    y_pred_test.append(eval(regression_line))\n",
    "    \n",
    "print(\"Actual:\", y_test)\n",
    "print(\"Predicted:\", y_pred_test)"
   ]
  },
  {
   "cell_type": "code",
   "execution_count": 13,
   "metadata": {},
   "outputs": [
    {
     "name": "stdout",
     "output_type": "stream",
     "text": [
      "Mean Square Error 98.34755168852097\n"
     ]
    }
   ],
   "source": [
    "# Mean Square Error on Test Set\n",
    "from sklearn.metrics import mean_squared_error\n",
    "print(\"Mean Square Error\", mean_squared_error(np.array(y_pred_test), y_test))"
   ]
  }
 ],
 "metadata": {
  "kernelspec": {
   "display_name": "Python 3",
   "language": "python",
   "name": "python3"
  },
  "language_info": {
   "codemirror_mode": {
    "name": "ipython",
    "version": 3
   },
   "file_extension": ".py",
   "mimetype": "text/x-python",
   "name": "python",
   "nbconvert_exporter": "python",
   "pygments_lexer": "ipython3",
   "version": "3.6.4"
  }
 },
 "nbformat": 4,
 "nbformat_minor": 2
}
