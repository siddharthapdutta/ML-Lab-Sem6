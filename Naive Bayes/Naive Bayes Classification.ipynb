{
 "cells": [
  {
   "cell_type": "markdown",
   "metadata": {},
   "source": [
    "# Classification using Naive Bayes\n",
    "##### Siddhartha Dutta; A70405217037"
   ]
  },
  {
   "cell_type": "markdown",
   "metadata": {},
   "source": [
    "## Social Network Ads Dataset"
   ]
  },
  {
   "cell_type": "code",
   "execution_count": 1,
   "metadata": {},
   "outputs": [],
   "source": [
    "# Importing Libraries\n",
    "import pandas as pd\n",
    "from sklearn.preprocessing import LabelEncoder\n",
    "from sklearn.preprocessing import OneHotEncoder\n",
    "from sklearn.preprocessing import StandardScaler\n",
    "from sklearn.model_selection import train_test_split\n",
    "from sklearn.naive_bayes import GaussianNB\n",
    "from sklearn.metrics import confusion_matrix\n",
    "from sklearn.metrics import classification_report\n",
    "from sklearn.metrics import accuracy_score\n",
    "\n",
    "import warnings\n",
    "warnings.simplefilter(action='ignore')"
   ]
  },
  {
   "cell_type": "code",
   "execution_count": 2,
   "metadata": {},
   "outputs": [],
   "source": [
    "# Importing Dataset\n",
    "dataset = pd.read_csv('Social_Network_Ads.csv')\n",
    "X = dataset.iloc[:, 1:4].values # Gender, Age, EstimatedSalary\n",
    "Y = dataset.iloc[:, 4].values # Purchased"
   ]
  },
  {
   "cell_type": "code",
   "execution_count": 3,
   "metadata": {},
   "outputs": [],
   "source": [
    "# Data Preprocessing\n",
    "le = LabelEncoder()\n",
    "X[:, 0] = le.fit_transform(X[:, 0]) # Label Encoding Gender Column\n",
    "\n",
    "enc = OneHotEncoder(categorical_features=[0])\n",
    "X = enc.fit_transform(X).toarray()\n",
    "X = X[:, 1:]\n",
    "\n",
    "sc = StandardScaler()\n",
    "X = sc.fit_transform(X) # Applying Standard Scaling to All Independent Variables\n",
    "\n",
    "X_train, X_test, Y_train, Y_test = train_test_split(X, Y, test_size = 0.20, random_state = 42) # 80-20 Split"
   ]
  },
  {
   "cell_type": "code",
   "execution_count": 4,
   "metadata": {},
   "outputs": [
    {
     "data": {
      "text/plain": [
       "GaussianNB(priors=None, var_smoothing=1e-09)"
      ]
     },
     "execution_count": 4,
     "metadata": {},
     "output_type": "execute_result"
    }
   ],
   "source": [
    "# Naive Bayes Classification\n",
    "classifier = GaussianNB()\n",
    "classifier.fit(X_train, Y_train)"
   ]
  },
  {
   "cell_type": "code",
   "execution_count": 5,
   "metadata": {},
   "outputs": [
    {
     "name": "stdout",
     "output_type": "stream",
     "text": [
      "Predicted Values for Y: [1 1 0 1 0 0 1 0 0 0 0 1 0 0 0 0 1 1 0 1 0 0 1 1 0 1 0 0 1 0 0 0 1 0 1 0 0\n",
      " 0 0 0 1 0 0 1 0 1 0 0 1 0 0 1 0 0 0 0 1 0 0 0 0 0 1 0 0 1 1 1 0 0 1 0 0 0\n",
      " 0 0 1 1 0 0]\n"
     ]
    }
   ],
   "source": [
    "# Predicting Test Set Results\n",
    "Y_pred = classifier.predict(X_test)\n",
    "print(\"Predicted Values for Y:\", Y_pred)"
   ]
  },
  {
   "cell_type": "code",
   "execution_count": 6,
   "metadata": {},
   "outputs": [
    {
     "name": "stdout",
     "output_type": "stream",
     "text": [
      "Classification Report\n",
      "              precision    recall  f1-score   support\n",
      "\n",
      "           0       0.94      0.96      0.95        52\n",
      "           1       0.93      0.89      0.91        28\n",
      "\n",
      "    accuracy                           0.94        80\n",
      "   macro avg       0.93      0.93      0.93        80\n",
      "weighted avg       0.94      0.94      0.94        80\n",
      "\n",
      "\n",
      "Confusion Matrix\n",
      "[[50  2]\n",
      " [ 3 25]]\n",
      "\n",
      "Accuracy Score: 0.94\n"
     ]
    }
   ],
   "source": [
    "# Displaying Metrics\n",
    "print(\"Classification Report\")\n",
    "print(classification_report(Y_test, Y_pred))\n",
    "\n",
    "print(\"\\nConfusion Matrix\")\n",
    "print(confusion_matrix(Y_test, Y_pred))\n",
    "\n",
    "print(\"\\nAccuracy Score:\", end = ' ')\n",
    "print(round(accuracy_score(Y_test, Y_pred),2))"
   ]
  },
  {
   "cell_type": "markdown",
   "metadata": {},
   "source": [
    "## Pima Indians Diabetes Database"
   ]
  },
  {
   "cell_type": "code",
   "execution_count": 7,
   "metadata": {},
   "outputs": [],
   "source": [
    "# Importing Libraries\n",
    "import pandas as pd\n",
    "from sklearn.preprocessing import Imputer\n",
    "from sklearn.preprocessing import StandardScaler\n",
    "from sklearn.model_selection import train_test_split\n",
    "from sklearn.naive_bayes import GaussianNB\n",
    "from sklearn.metrics import confusion_matrix\n",
    "from sklearn.metrics import classification_report\n",
    "from sklearn.metrics import accuracy_score\n",
    "\n",
    "import warnings\n",
    "warnings.simplefilter(action='ignore')"
   ]
  },
  {
   "cell_type": "code",
   "execution_count": 8,
   "metadata": {},
   "outputs": [],
   "source": [
    "# Importing Dataset\n",
    "dataset = pd.read_csv('pima-indians-diabetes.csv', header=None)\n",
    "\n",
    "X = dataset.iloc[:, 0:9] # 9 Independent Variables\n",
    "Y = dataset.iloc[:, 9] # 1 Dependent Variable"
   ]
  },
  {
   "cell_type": "code",
   "execution_count": 9,
   "metadata": {},
   "outputs": [
    {
     "name": "stdout",
     "output_type": "stream",
     "text": [
      "Number of Missing Values Per Column\n",
      "0    1\n",
      "1    4\n",
      "2    4\n",
      "3    1\n",
      "4    5\n",
      "5    3\n",
      "6    2\n",
      "7    8\n",
      "8    1\n",
      "9    0\n",
      "dtype: int64\n",
      "\n",
      "Replaced Values\n",
      "0       3.846154\n",
      "1     120.947644\n",
      "2      69.111257\n",
      "3      20.533246\n",
      "4      79.825688\n",
      "5    1658.594771\n",
      "6      31.998564\n",
      "7       0.473170\n",
      "8      33.245111\n",
      "dtype: float64\n"
     ]
    }
   ],
   "source": [
    "# Data Preprocessing\n",
    "print(\"Number of Missing Values Per Column\")\n",
    "print(dataset.isnull().sum())\n",
    "print(\"\\nReplaced Values\")\n",
    "print(X.mean())\n",
    "imputer = Imputer(missing_values = 'NaN', strategy = 'mean', axis = 0) # Imputer: Mean Strategy\n",
    "imputer = imputer.fit(X)\n",
    "X = imputer.transform(X) # Handling Missing Values using Imputer\n",
    "\n",
    "sc = StandardScaler()\n",
    "X = sc.fit_transform(X) # Applying Standard Scaling to All Independent Variables\n",
    "\n",
    "X_train, X_test, Y_train, Y_test = train_test_split(X, Y, test_size = 0.25, random_state = 42) # 80-20 Split"
   ]
  },
  {
   "cell_type": "code",
   "execution_count": 10,
   "metadata": {},
   "outputs": [
    {
     "data": {
      "text/plain": [
       "GaussianNB(priors=None, var_smoothing=1e-09)"
      ]
     },
     "execution_count": 10,
     "metadata": {},
     "output_type": "execute_result"
    }
   ],
   "source": [
    "# Naive Bayes Classification\n",
    "classifier = GaussianNB()\n",
    "classifier.fit(X_train, Y_train)"
   ]
  },
  {
   "cell_type": "code",
   "execution_count": 11,
   "metadata": {},
   "outputs": [
    {
     "name": "stdout",
     "output_type": "stream",
     "text": [
      "Predicted Values for Y: [0 0 0 0 1 1 0 1 0 1 0 1 1 0 0 0 0 0 1 0 0 0 1 0 1 1 0 0 0 0 1 1 1 1 1 1 1\n",
      " 0 1 0 0 0 0 1 0 1 1 0 0 1 0 1 1 0 0 0 1 0 0 1 1 0 1 1 0 1 0 1 0 1 1 0 0 0\n",
      " 0 1 0 0 0 0 1 0 0 0 0 1 1 0 0 0 0 0 0 0 0 0 0 0 1 0 1 0 1 1 1 0 0 1 0 1 0\n",
      " 0 0 1 0 0 1 0 0 1 0 0 0 0 0 1 0 1 1 1 1 1 0 1 1 0 0 1 1 0 0 0 0 1 0 0 0 0\n",
      " 0 1 0 0 1 0 0 1 0 1 1 0 0 1 0 0 0 1 0 0 1 1 1 0 0 1 1 0 0 1 0 0 1 1 0 1 1\n",
      " 0 0 0 1 1 0 0]\n"
     ]
    }
   ],
   "source": [
    "# Predicting Test Set Results\n",
    "Y_pred = classifier.predict(X_test)\n",
    "print(\"Predicted Values for Y:\", Y_pred)"
   ]
  },
  {
   "cell_type": "code",
   "execution_count": 12,
   "metadata": {},
   "outputs": [
    {
     "name": "stdout",
     "output_type": "stream",
     "text": [
      "Classification Report\n",
      "              precision    recall  f1-score   support\n",
      "\n",
      "           0       0.81      0.76      0.78       123\n",
      "           1       0.61      0.68      0.64        69\n",
      "\n",
      "    accuracy                           0.73       192\n",
      "   macro avg       0.71      0.72      0.71       192\n",
      "weighted avg       0.74      0.73      0.73       192\n",
      "\n",
      "\n",
      "Confusion Matrix\n",
      "[[93 30]\n",
      " [22 47]]\n",
      "\n",
      "Accuracy Score: 0.73\n"
     ]
    }
   ],
   "source": [
    "# Displaying Metrics\n",
    "print(\"Classification Report\")\n",
    "print(classification_report(Y_test, Y_pred))\n",
    "\n",
    "print(\"\\nConfusion Matrix\")\n",
    "print(confusion_matrix(Y_test, Y_pred))\n",
    "\n",
    "print(\"\\nAccuracy Score:\", end = ' ')\n",
    "print(round(accuracy_score(Y_test, Y_pred),2))"
   ]
  }
 ],
 "metadata": {
  "kernelspec": {
   "display_name": "Python 3",
   "language": "python",
   "name": "python3"
  },
  "language_info": {
   "codemirror_mode": {
    "name": "ipython",
    "version": 3
   },
   "file_extension": ".py",
   "mimetype": "text/x-python",
   "name": "python",
   "nbconvert_exporter": "python",
   "pygments_lexer": "ipython3",
   "version": "3.7.4"
  }
 },
 "nbformat": 4,
 "nbformat_minor": 2
}
