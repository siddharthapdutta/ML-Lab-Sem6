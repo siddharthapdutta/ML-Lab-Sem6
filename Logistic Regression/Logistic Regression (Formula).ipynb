{
 "cells": [
  {
   "cell_type": "markdown",
   "metadata": {},
   "source": [
    "# Logistic Regression using Least Squares Method"
   ]
  },
  {
   "cell_type": "code",
   "execution_count": 1,
   "metadata": {},
   "outputs": [],
   "source": [
    "# Importing Libraries\n",
    "import numpy as np\n",
    "from sklearn.model_selection import train_test_split\n",
    "from sklearn.metrics import accuracy_score"
   ]
  },
  {
   "cell_type": "code",
   "execution_count": 2,
   "metadata": {},
   "outputs": [],
   "source": [
    "# Global Variables\n",
    "BIAS = 1\n",
    "ALPHA = 0.3\n",
    "THRESHOLD = 0.5\n",
    "EPOCHS = 1"
   ]
  },
  {
   "cell_type": "code",
   "execution_count": 3,
   "metadata": {},
   "outputs": [],
   "source": [
    "# Dataset\n",
    "x1 = [2.7810836, 1.4654894, 3.3965617, 1.3880702, 3.0640723,\\\n",
    "      7.6275312, 5.3324412, 6.9225967, 8.6754187, 7.6737565]\n",
    "x2 = [2.550537, 2.3621251, 4.4002935, 1.8502203, 3.005306,\\\n",
    "      2.7592622, 2.0886268, 1.7710637, -0.242069, 3.508563]\n",
    "Y = [0, 0, 0, 0, 0, 1, 1, 1, 1, 1]"
   ]
  },
  {
   "cell_type": "code",
   "execution_count": 4,
   "metadata": {},
   "outputs": [],
   "source": [
    "# Logistic Function \n",
    "def h(x):\n",
    "    return 1 / (1 + np.exp(-x))"
   ]
  },
  {
   "cell_type": "code",
   "execution_count": 5,
   "metadata": {},
   "outputs": [
    {
     "name": "stdout",
     "output_type": "stream",
     "text": [
      "(10, 3)\n",
      "(10,)\n"
     ]
    }
   ],
   "source": [
    "# Prepare Inputs\n",
    "X = []\n",
    "for a, b in zip(x1, x2):\n",
    "    temp = []\n",
    "    temp.append(BIAS)\n",
    "    temp.append(a)\n",
    "    temp.append(b)\n",
    "    X.append(temp)\n",
    "X = np.array(X)\n",
    "print(X.shape)\n",
    "Y = np.array(Y)\n",
    "print(Y.shape)"
   ]
  },
  {
   "cell_type": "code",
   "execution_count": 6,
   "metadata": {},
   "outputs": [],
   "source": [
    "# Performing Train-Test Split\n",
    "X_train, X_test, Y_train, Y_test = train_test_split(X, Y, test_size = 0.2, random_state=42)"
   ]
  },
  {
   "cell_type": "code",
   "execution_count": 7,
   "metadata": {},
   "outputs": [],
   "source": [
    "# Initialize coefficient values and sharp prediction array\n",
    "B = np.zeros((1,X.shape[1]))\n",
    "sh_pred = np.zeros((Y.shape))"
   ]
  },
  {
   "cell_type": "code",
   "execution_count": 8,
   "metadata": {},
   "outputs": [
    {
     "name": "stdout",
     "output_type": "stream",
     "text": [
      "[[-0.0375     -0.10429064 -0.09564514]]\n",
      "[[-0.0660511  -0.14613197 -0.16308641]]\n",
      "[[-0.07716028 -0.18386498 -0.21197005]]\n",
      "[[-0.09868803 -0.21374701 -0.25180114]]\n",
      "[[-0.1067283  -0.23838299 -0.27596462]]\n",
      "[[-0.08995788 -0.11046604 -0.22969061]]\n",
      "[[-0.04844172  0.11091644 -0.14297885]]\n",
      "[[-0.02104301  0.30058666 -0.09445399]]\n",
      "[[-0.01973076  0.311971   -0.09477164]]\n",
      "[[-0.01622585  0.33886677 -0.08247447]]\n",
      "[1. 0. 0. 0. 0. 0. 0. 1. 1. 1.]\n",
      "\n"
     ]
    }
   ],
   "source": [
    "# Perform Logistic Regression using Least Squares Method\n",
    "for _ in range(EPOCHS):\n",
    "    for i in range(len(Y)):\n",
    "        pred = h(np.sum(X[i] * B))\n",
    "        B += (ALPHA * (Y[i] - pred) * pred * (1 - pred) * X[i])\n",
    "        print(B)\n",
    "        sh_pred[i] = 1 if pred >= THRESHOLD else 0\n",
    "    print(sh_pred)\n",
    "    print()"
   ]
  },
  {
   "cell_type": "code",
   "execution_count": 9,
   "metadata": {},
   "outputs": [
    {
     "name": "stdout",
     "output_type": "stream",
     "text": [
      "Coefficient Values\n",
      "b0\t\tb1\t\tb2\n",
      "[-0.01622585  0.33886677 -0.08247447]\n"
     ]
    }
   ],
   "source": [
    "# Showing Values\n",
    "print(\"Coefficient Values\")\n",
    "print(\"b0\\t\\tb1\\t\\tb2\")\n",
    "print(*B, sep='\\t')"
   ]
  },
  {
   "cell_type": "code",
   "execution_count": 10,
   "metadata": {},
   "outputs": [
    {
     "name": "stdout",
     "output_type": "stream",
     "text": [
      "Actual Output Values: 1 0\n",
      "Predicted Output Values: 1 1\n"
     ]
    }
   ],
   "source": [
    "# Performing Predictions on X_test\n",
    "Y_pred = []\n",
    "for val in X_test:\n",
    "    pred = h(np.sum(val * B))\n",
    "    Y_pred.append(1 if pred >= THRESHOLD else 0)\n",
    "print(\"Actual Output Values: \", end = '')\n",
    "print(*Y_test)\n",
    "print(\"Predicted Output Values: \", end = '')\n",
    "print(*Y_pred)"
   ]
  },
  {
   "cell_type": "code",
   "execution_count": 11,
   "metadata": {},
   "outputs": [
    {
     "name": "stdout",
     "output_type": "stream",
     "text": [
      "Accuracy Score: 0.5\n"
     ]
    }
   ],
   "source": [
    "# Computing Accuracy Score\n",
    "acc_score = accuracy_score(Y_test, Y_pred)\n",
    "print(\"Accuracy Score:\", acc_score)"
   ]
  }
 ],
 "metadata": {
  "kernelspec": {
   "display_name": "Python 3",
   "language": "python",
   "name": "python3"
  },
  "language_info": {
   "codemirror_mode": {
    "name": "ipython",
    "version": 3
   },
   "file_extension": ".py",
   "mimetype": "text/x-python",
   "name": "python",
   "nbconvert_exporter": "python",
   "pygments_lexer": "ipython3",
   "version": "3.6.4"
  }
 },
 "nbformat": 4,
 "nbformat_minor": 2
}
